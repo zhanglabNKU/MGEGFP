{
 "cells": [
  {
   "cell_type": "code",
   "execution_count": null,
   "metadata": {},
   "outputs": [],
   "source": [
    "node_list = []\n",
    "\n",
    "with open('yeast_string_coexpression_adjacency.txt') as f:\n",
    "    for l in f:\n",
    "        x = l.strip().split()[0]\n",
    "        x = int(x)\n",
    "#         print(x)\n",
    "        if x not in node_list:\n",
    "            node_list.append(x)"
   ]
  }
 ],
 "metadata": {
  "kernelspec": {
   "display_name": "Python 3",
   "language": "python",
   "name": "python3"
  },
  "language_info": {
   "codemirror_mode": {
    "name": "ipython",
    "version": 3
   },
   "file_extension": ".py",
   "mimetype": "text/x-python",
   "name": "python",
   "nbconvert_exporter": "python",
   "pygments_lexer": "ipython3",
   "version": "3.7.0"
  }
 },
 "nbformat": 4,
 "nbformat_minor": 2
}
